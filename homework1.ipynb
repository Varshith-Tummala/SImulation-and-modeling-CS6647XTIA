{
  "nbformat": 4,
  "nbformat_minor": 0,
  "metadata": {
    "colab": {
      "provenance": []
    },
    "kernelspec": {
      "name": "python3",
      "display_name": "Python 3"
    },
    "language_info": {
      "name": "python"
    }
  },
  "cells": [
    {
      "cell_type": "markdown",
      "source": [
        "##**Use sympy to solve the following questions**\n",
        "**1. Solve the quadratic function $x^2+2x-8=0$**"
      ],
      "metadata": {
        "id": "MZjBN_HdrL3w"
      }
    },
    {
      "cell_type": "code",
      "source": [
        "# Symbols, Eq, solve are found in SymPy library\n",
        "\n",
        "from sympy import symbols, Eq, solve\n",
        "# Initializing the symbols\n",
        "x = symbols('x')\n",
        "\n",
        "# Define the equation\n",
        "func = Eq(x**2 + 2*x - 8, 0)\n",
        "\n",
        "# Solve the equation\n",
        "sol = solve(func, x)\n",
        "\n",
        "# Print the solutions\n",
        "print(sol)"
      ],
      "metadata": {
        "id": "deEemH-qrnCG",
        "colab": {
          "base_uri": "https://localhost:8080/"
        },
        "outputId": "b217db67-d49a-4534-a81b-e39a586d8180"
      },
      "execution_count": 4,
      "outputs": [
        {
          "output_type": "stream",
          "name": "stdout",
          "text": [
            "[-4, 2]\n"
          ]
        }
      ]
    },
    {
      "cell_type": "markdown",
      "source": [
        "**2. What is the function f(x) which is equal to its\n",
        "derivative?**"
      ],
      "metadata": {
        "id": "osWHgKk5t9MA"
      }
    },
    {
      "cell_type": "code",
      "source": [
        "#dsolve can be used for finding derivative in SymPy\n",
        "\n",
        "from sympy import symbols, Function, Eq, dsolve\n",
        "\n",
        "# Define the symbol and the function\n",
        "x = symbols('x')\n",
        "f = Function('f')(x)\n",
        "\n",
        "# Define the differential equation f(x) = f'(x)\n",
        "equate = Eq(f, f.diff(x))\n",
        "\n",
        "# Solve the differential equation\n",
        "solution = dsolve(equate, f)\n",
        "\n",
        "# Print the solution\n",
        "print(f'f(x) = {solution}')\n",
        "\n",
        "\n",
        "# The general solution for f(x) = f'(x) is given by\n",
        "\n",
        "#f(x) = C₁ * exp(x)\n",
        "\n",
        "# where C₁ is an arbitrary constant."
      ],
      "metadata": {
        "id": "MR8ijByJroeV",
        "colab": {
          "base_uri": "https://localhost:8080/"
        },
        "outputId": "4d6fdf0b-a40e-4f44-8e7c-0bdfcfe077f1"
      },
      "execution_count": 8,
      "outputs": [
        {
          "output_type": "stream",
          "name": "stdout",
          "text": [
            "f(x) = Eq(f(x), C1*exp(x))\n"
          ]
        }
      ]
    },
    {
      "cell_type": "markdown",
      "source": [
        "**3. Compute the area under $f(x)=x^3$ from x=0 to x=1**"
      ],
      "metadata": {
        "id": "P2b7XyAD5qf1"
      }
    },
    {
      "cell_type": "code",
      "source": [
        "# To compute the area under a curve from x=0 to x=1, we must first build the function that represents the curve and then integrate it across the required interval using SymPy.\n",
        "\n",
        "# we can use integrate from SymPy\n",
        "\n",
        "from sympy import symbols, integrate\n",
        "\n",
        "# Define the symbol and the function\n",
        "x = symbols('x')\n",
        "f = x**3  # function: x^3\n",
        "\n",
        "# Compute the definite integral from x=0 to x=1\n",
        "area = integrate(f, (x, 0, 1))\n",
        "\n",
        "# Print the computed area\n",
        "print('The area under the curve from x=0 to x=1 is:', area)\n",
        "\n",
        "\n"
      ],
      "metadata": {
        "id": "W1MNf_ptrqOK",
        "colab": {
          "base_uri": "https://localhost:8080/"
        },
        "outputId": "f48e5da9-9cae-4ca8-c348-dc4298f5ad54"
      },
      "execution_count": 49,
      "outputs": [
        {
          "output_type": "stream",
          "name": "stdout",
          "text": [
            "The area under the curve from x=0 to x=1 is: 1/4\n"
          ]
        }
      ]
    },
    {
      "cell_type": "markdown",
      "source": [
        "**4. Calculate $\\displaystyle\\sum\\limits_{x=0}^\\infty \\left(\\frac{1}{x!}\\right)$**"
      ],
      "metadata": {
        "id": "X0WDytOW_0Ds"
      }
    },
    {
      "cell_type": "code",
      "source": [
        "from sympy import symbols, factorial, summation, oo\n",
        "# oo is positive infinite quantity\n",
        "\n",
        "# Define the symbol\n",
        "x = symbols('x')\n",
        "\n",
        "# Define the series expression\n",
        "terms = 1 / factorial(x)\n",
        "\n",
        "# Compute the sum up to a specified number of terms\n",
        "\n",
        "n_terms = oo  # Number of terms to compute\n",
        "ser_sum = summation(terms, (x, 0, n_terms))\n",
        "\n",
        "# Print the computed sum\n",
        "print(\"The sum of the series is:\",ser_sum)\n",
        "\n",
        "# The above code is for infinite series of terms.\n",
        "# We can compute the sum up to a specified number of terms by changing the value at n_terms.\n",
        "\n"
      ],
      "metadata": {
        "id": "9j3BL9Tbrrhw",
        "colab": {
          "base_uri": "https://localhost:8080/"
        },
        "outputId": "78545350-a239-4949-e151-be4fed406a70"
      },
      "execution_count": 35,
      "outputs": [
        {
          "output_type": "stream",
          "name": "stdout",
          "text": [
            "The sum of the series is: E\n"
          ]
        }
      ]
    },
    {
      "cell_type": "markdown",
      "source": [
        "**5. Calculate $\\lim_{n \\rightarrow \\infty}(1+\\frac{1}{n})^n$**"
      ],
      "metadata": {
        "id": "GX1ZPTnTCtrV"
      }
    },
    {
      "cell_type": "code",
      "source": [
        "# Using SymPy, we can calculate the limit of (1 + 1/n)n as n approaches infinity by utilising the limit function.\n",
        "\n",
        "from sympy import symbols, limit\n",
        "\n",
        "# Define the symbol\n",
        "n = symbols('n')\n",
        "\n",
        "# Defining the expression\n",
        "expr = (1 + 1/n)**n\n",
        "\n",
        "# Computing the limit as n approaches infinity\n",
        "lim_value = limit(expr, n, float('inf'))\n",
        "\n",
        "# Print the computed limit\n",
        "print(\"The limit of (1 + 1/n)^n as n approaches infinity is:\",lim_value)\n"
      ],
      "metadata": {
        "id": "9RuIX--BrwG_",
        "colab": {
          "base_uri": "https://localhost:8080/"
        },
        "outputId": "8e5a8bb6-bf29-4939-9746-64688cf0e212"
      },
      "execution_count": 48,
      "outputs": [
        {
          "output_type": "stream",
          "name": "stdout",
          "text": [
            "The limit of (1 + 1/n)^n as n approaches infinity is: E\n"
          ]
        }
      ]
    },
    {
      "cell_type": "markdown",
      "source": [
        "**6. flips the matrix through its diagonal $\\begin{bmatrix}2&-3&-8&7 \\\\-2&-1&2&-7\\\\ 1&0&-3&6 \\end{bmatrix}$**"
      ],
      "metadata": {
        "id": "PJ_WIHAZE9P2"
      }
    },
    {
      "cell_type": "code",
      "source": [
        "# Using the sympy module's matrix manipulation functions, it is possible to invert a matrix along its diagonal using SymPy. \n",
        "\n",
        "from sympy import Matrix\n",
        "\n",
        "# Define the original matrix\n",
        "matrix = Matrix([[2, -3, -8, 7],\n",
        "                 [-2, -1, 2, -7],\n",
        "                 [1, 0, -3, 6],])\n",
        "\n",
        "# Flip the matrix through its diagonal\n",
        "flipped_matrix = matrix.transpose()\n",
        "\n",
        "# Print the flipped matrix\n",
        "print(\"Original Matrix:\")\n",
        "print(matrix)\n",
        "print(\"Flipped Matrix:\")\n",
        "print(flipped_matrix)\n"
      ],
      "metadata": {
        "id": "DjIgeasrrw1d",
        "colab": {
          "base_uri": "https://localhost:8080/"
        },
        "outputId": "44e5132d-f537-4fef-f095-5ca21df977ec"
      },
      "execution_count": 40,
      "outputs": [
        {
          "output_type": "stream",
          "name": "stdout",
          "text": [
            "Original Matrix:\n",
            "Matrix([[2, -3, -8, 7], [-2, -1, 2, -7], [1, 0, -3, 6]])\n",
            "Flipped Matrix:\n",
            "Matrix([[2, -2, 1], [-3, -1, 0], [-8, 2, -3], [7, -7, 6]])\n"
          ]
        }
      ]
    },
    {
      "cell_type": "markdown",
      "source": [
        "**7. Row operations: We know the following matrix**"
      ],
      "metadata": {
        "id": "rLTC_3INOPdj"
      }
    },
    {
      "cell_type": "code",
      "source": [
        " M = eye(3)\n",
        " M"
      ],
      "metadata": {
        "colab": {
          "base_uri": "https://localhost:8080/",
          "height": 78
        },
        "id": "iWzjfQn0Ox_a",
        "outputId": "9a591e92-6369-4a7a-ddde-f4b3748e88b2"
      },
      "execution_count": null,
      "outputs": [
        {
          "output_type": "execute_result",
          "data": {
            "text/latex": "$\\displaystyle \\left[\\begin{matrix}1 & 0 & 0\\\\0 & 1 & 0\\\\0 & 0 & 1\\end{matrix}\\right]$",
            "text/plain": [
              "Matrix([\n",
              "[1, 0, 0],\n",
              "[0, 1, 0],\n",
              "[0, 0, 1]])"
            ]
          },
          "metadata": {},
          "execution_count": 2
        }
      ]
    },
    {
      "cell_type": "markdown",
      "source": [
        "**Do matrix row operations to R2 ← R2 + 3R1. (update Row 2 to R2+3*R1). Print the matrix**"
      ],
      "metadata": {
        "id": "v8pI_LiDjkBj"
      }
    },
    {
      "cell_type": "code",
      "source": [
        "# To perform matrix row operations with SymPy and alter Row 2 of a matrix, you can use the sympy module's matrix manipulation functions.\n",
        "\n",
        "from sympy import eye, Matrix\n",
        "\n",
        "# To Create a 3x3 identity matrix\n",
        "M = eye(3)\n",
        "\n",
        "# Perform the row operation R2 ← R2 + 3R1\n",
        "# As M[1, :] refers to the second row of the matrix M.\n",
        "# M[0, :] refers to the first row of the matrix M.\n",
        "\n",
        "M[1, :] += 3 * M[0, :]\n",
        "\n",
        "# Print the updated matrix\n",
        "print(M)\n"
      ],
      "metadata": {
        "id": "WpVLzCfHrzd5",
        "colab": {
          "base_uri": "https://localhost:8080/"
        },
        "outputId": "0da2edf4-b7fd-47f0-81d9-bc2248dd6765"
      },
      "execution_count": 41,
      "outputs": [
        {
          "output_type": "stream",
          "name": "stdout",
          "text": [
            "Matrix([[1, 0, 0], [3, 1, 0], [0, 0, 1]])\n"
          ]
        }
      ]
    },
    {
      "cell_type": "markdown",
      "source": [
        "**8.Find determinant of M**"
      ],
      "metadata": {
        "id": "lStKMbpWkZky"
      }
    },
    {
      "cell_type": "code",
      "source": [
        "# we use det function from SymPy\n",
        "from sympy import Matrix\n",
        "\n",
        "# Define the matrix\n",
        "M = Matrix([[1, 0, 0], [3, 1, 0], [0, 0, 1]])\n",
        "\n",
        "# Compute the determinant\n",
        "determinant = M.det()\n",
        "\n",
        "# Print the determinant\n",
        "print(\"Determinant:\", determinant)\n",
        "\n"
      ],
      "metadata": {
        "id": "klYDCja9r1N3",
        "colab": {
          "base_uri": "https://localhost:8080/"
        },
        "outputId": "e582cc1c-45fb-4e2b-8295-5377bf999b6d"
      },
      "execution_count": 81,
      "outputs": [
        {
          "output_type": "stream",
          "name": "stdout",
          "text": [
            "Determinant: 1\n"
          ]
        }
      ]
    },
    {
      "cell_type": "markdown",
      "source": [
        "**9.Find the following matrix's eigenvalue and eigen vector**"
      ],
      "metadata": {
        "id": "qaXra9fNlSDu"
      }
    },
    {
      "cell_type": "code",
      "source": [
        "#M = Matrix( [[ 9, -2],[-2, 6]] )\n",
        "\n",
        "#You can use the sympy module's eigenvals and eigenvecs functions to determine the eigenvalues and eigenvectors of matrix M using SymPy.\n",
        "\n",
        "from sympy import Matrix\n",
        "\n",
        "# Define the matrix n\n",
        "n = Matrix([[9, -2], [-2, 6]])\n",
        "\n",
        "# Compute the eigenvalues and eigenvectors\n",
        "eigenvalues = n.eigenvals()\n",
        "eigenvectors = n.eigenvects()\n",
        "\n",
        "# Print the eigenvalues\n",
        "print(\"Eigenvalues:\")\n",
        "for eigenvalue, multiplicity in eigenvalues.items():\n",
        "    print(\"Eigenvalue:\",eigenvalue , \"Multiplicity:\",multiplicity)\n",
        "\n",
        "print(\"------------------------------------------\")\n",
        "\n",
        "# Print the eigenvectors\n",
        "print(\"Eigenvectors:\")\n",
        "for eigenvector in eigenvectors:\n",
        "    eigenvalue = eigenvector[0]\n",
        "    multiplicity = eigenvector[1]\n",
        "    vectors = eigenvector[2]\n",
        "    for vector in vectors:\n",
        "        print(\"Eigenvalue:\",eigenvalue, \"Multiplicity:\",multiplicity, \"Eigenvector:\",vector)\n",
        "\n",
        "\n"
      ],
      "metadata": {
        "id": "W8cpvW7lljCv",
        "colab": {
          "base_uri": "https://localhost:8080/"
        },
        "outputId": "60cc01b0-b77d-488e-bae9-d4421ad8c551"
      },
      "execution_count": 71,
      "outputs": [
        {
          "output_type": "stream",
          "name": "stdout",
          "text": [
            "Eigenvalues:\n",
            "Eigenvalue: 10 Multiplicity: 1\n",
            "Eigenvalue: 5 Multiplicity: 1\n",
            "------------------------------------------\n",
            "Eigenvectors:\n",
            "Eigenvalue: 5 Multiplicity: 1 Eigenvector: Matrix([[1/2], [1]])\n",
            "Eigenvalue: 10 Multiplicity: 1 Eigenvector: Matrix([[-2], [1]])\n"
          ]
        }
      ]
    },
    {
      "cell_type": "markdown",
      "source": [
        "**10. Implement the Predator-prey model in python**\n",
        "\n",
        "Suppose fish starts at 10 hundreds, bears starts at 1 hundred\n",
        "\n",
        "alpha = 1.1\n",
        "\n",
        "beta = 0.4\n",
        "\n",
        "delta = 0.1\n",
        "\n",
        "gamma = 0.4\n",
        "\n",
        "draw the plots(bear-time, fish-time)\n",
        "\n",
        "t = np.linspace(0,50,num=1000)\n"
      ],
      "metadata": {
        "id": "T0NeZ4Hwo1Uy"
      }
    },
    {
      "cell_type": "code",
      "source": [
        "# We can use the odeint function from the scipy.integrate module and the matplotlib library for plotting in order to implement the predator-prey model and plot the population dynamics of fish and bears over time using the provided parameters.\n",
        "\n",
        "import numpy as np\n",
        "import matplotlib.pyplot as plt\n",
        "from scipy.integrate import odeint\n",
        "\n",
        "\n",
        "# Define the predator-prey model\n",
        "def predator_prey(y, t):\n",
        "    fish = y[0]\n",
        "    bears = y[1]\n",
        "    alpha = 1.1\n",
        "    beta = 0.4\n",
        "    delta = 0.1\n",
        "    gamma = 0.4\n",
        "\n",
        "    dF_dt = alpha * fish - beta * fish * bears # differentiating fish with respect to time is dF_dt.\n",
        "    dB_dt = delta * fish * bears - gamma * bears # differentiating bears with respect to time is dB_dt.\n",
        "\n",
        "    return [dF_dt, dB_dt]\n",
        "\n",
        "#  initial conditions as per question\n",
        "initial_conditions = [10, 1]  # Fish starts at 10 hundreds, Bears start at 1 hundred\n",
        "\n",
        "# Set the time points\n",
        "t = np.linspace(0, 50, num=1000)\n",
        "\n",
        "# Solve the differential equations\n",
        "sol = odeint(predator_prey, initial_conditions, t)\n",
        "\n",
        "# Extracting the population of fish and bears from the solution\n",
        "fish_population = sol[:, 0]\n",
        "bears_population = sol[:, 1]\n",
        "\n",
        "# Plotting the population dynamics\n",
        "plt.plot(t, fish_population, label='Fish')\n",
        "plt.plot(t, bears_population, label='Bears')\n",
        "plt.xlabel('Time')\n",
        "plt.ylabel('Population')\n",
        "plt.title('Predator-Prey Model')\n",
        "plt.legend()\n",
        "plt.show()\n"
      ],
      "metadata": {
        "colab": {
          "base_uri": "https://localhost:8080/",
          "height": 472
        },
        "id": "qdRruTsgGucc",
        "outputId": "9afbf717-b0ae-4731-b4e1-420d7ec4b4ca"
      },
      "execution_count": 72,
      "outputs": [
        {
          "output_type": "display_data",
          "data": {
            "text/plain": [
              "<Figure size 640x480 with 1 Axes>"
            ],
            "image/png": "[encoded data removed]"
          },
          "metadata": {}
        }
      ]
    }
  ]
}