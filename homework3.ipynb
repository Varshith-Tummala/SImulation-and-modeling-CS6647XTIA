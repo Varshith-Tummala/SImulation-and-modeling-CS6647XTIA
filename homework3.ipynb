{
  "metadata": {
    "kernelspec": {
      "display_name": "Python 3",
      "language": "python",
      "name": "python3"
    },
    "language_info": {
      "name": "python",
      "version": "3.6.4",
      "mimetype": "text/x-python",
      "codemirror_mode": {
        "name": "ipython",
        "version": 3
      },
      "pygments_lexer": "ipython3",
      "nbconvert_exporter": "python",
      "file_extension": ".py"
    },
    "colab": {
      "provenance": [],
      "include_colab_link": true
    }
  },
  "nbformat_minor": 0,
  "nbformat": 4,
  "cells": [
    {
      "cell_type": "markdown",
      "metadata": {
        "id": "view-in-github",
        "colab_type": "text"
      },
      "source": [
        "<a href=\"https://colab.research.google.com/github/Varshith-Tummala/Simulation-and-modeling-CS6647XTIA/blob/main/homework3.ipynb\" target=\"_parent\"><img src=\"https://colab.research.google.com/assets/colab-badge.svg\" alt=\"Open In Colab\"/></a>"
      ]
    },
    {
      "cell_type": "markdown",
      "source": [
        "## The Uniform Distribution"
      ],
      "metadata": {
        "id": "s26AyhYpWDq5"
      }
    },
    {
      "cell_type": "markdown",
      "source": [
        "Load libraries. We use the scipy.stats library."
      ],
      "metadata": {
        "id": "zpBI2awMW6Oc"
      }
    },
    {
      "cell_type": "code",
      "source": [
        "import scipy.stats as stats"
      ],
      "metadata": {
        "trusted": true,
        "id": "grtbaBqpWDq6"
      },
      "execution_count": null,
      "outputs": []
    },
    {
      "cell_type": "markdown",
      "source": [
        "Use scipy library to create a randam uniform distribution data (100000 numbers from 0 to 10)"
      ],
      "metadata": {
        "id": "oByCe-f4WabL"
      }
    },
    {
      "cell_type": "code",
      "source": [
        "import matplotlib.pyplot as plt\n",
        "import scipy.stats as stats\n",
        "import numpy as np\n",
        "# Set the seed\n",
        "np.random.seed(42)\n",
        "# Generates random uniform distribution\n",
        "data = stats.uniform.rvs(size=100000, loc=0, scale=10)"
      ],
      "metadata": {
        "trusted": true,
        "id": "bZDkJE3EWDq8"
      },
      "execution_count": 5,
      "outputs": []
    },
    {
      "cell_type": "markdown",
      "source": [
        "Plot the following density distribution.\n",
        "You can use figsize=(9,9), xlim=(-1,11)"
      ],
      "metadata": {
        "id": "VDFCdnvxXKBO"
      }
    },
    {
      "cell_type": "code",
      "source": [
        "#run the above code before\n",
        "fig, ax = plt.subplots(figsize=(9, 9))\n",
        "ax.hist(data, bins=100, density=True, alpha=0.7)\n",
        "ax.set_xlim(-1, 11)\n",
        "plt.xlabel('Value')\n",
        "plt.ylabel('Density')\n",
        "plt.title('Random Uniform Distribution')\n",
        "plt.show()"
      ],
      "metadata": {
        "trusted": true,
        "colab": {
          "base_uri": "https://localhost:8080/",
          "height": 795
        },
        "id": "sv6O_1QTWDq8",
        "outputId": "231bdfe0-f3ed-4cab-b9ed-3da6d452c4e9"
      },
      "execution_count": 7,
      "outputs": [
        {
          "output_type": "display_data",
          "data": {
            "text/plain": [
              "<Figure size 900x900 with 1 Axes>"
            ],
            "image/png": "[encoded data removed]"
          },
          "metadata": {}
        }
      ]
    },
    {
      "cell_type": "markdown",
      "source": [
        "\n",
        "\n",
        "Check scipy libraries and use useful functions."
      ],
      "metadata": {
        "id": "fTrcokY6WDq9"
      }
    },
    {
      "cell_type": "markdown",
      "source": [
        "cdf (cumulative distribution function) gives you the area under the distribution's density curve to the left of a certain value on the x axis. Calculate cdf with x axis from 0 to 2.5."
      ],
      "metadata": {
        "id": "zksEWTRzYZRW"
      }
    },
    {
      "cell_type": "code",
      "source": [
        "import scipy.stats as stats\n",
        "# Calculating CDF for x-axis ranging from 0 to 2.5\n",
        "x = 2.5\n",
        "cdf_value = stats.uniform.cdf(x, loc=0, scale=10)  # CDF value for the given x-axis range\n",
        "print(cdf_value)"
      ],
      "metadata": {
        "trusted": true,
        "colab": {
          "base_uri": "https://localhost:8080/"
        },
        "id": "h9rCwTP9WDq-",
        "outputId": "ab4d883c-425e-4916-d940-8968540bbff4"
      },
      "execution_count": null,
      "outputs": [
        {
          "output_type": "stream",
          "name": "stdout",
          "text": [
            "0.25\n"
          ]
        }
      ]
    },
    {
      "cell_type": "markdown",
      "source": [
        "ppf() is the inverse of cdf(): it returns the x axis cutoff value (quantile) associated with a given probability. Caculate the cutoff value for propabality with 40%."
      ],
      "metadata": {
        "id": "YSH29ZK1WDq_"
      }
    },
    {
      "cell_type": "code",
      "source": [
        "import scipy.stats as stats\n",
        "# Calculating cutoff value for probability of 40%\n",
        "probability = 0.4\n",
        "cutoff_value = stats.uniform.ppf(probability, loc=0, scale=10)  # Cutoff value for the given probability\n",
        "print(cutoff_value)"
      ],
      "metadata": {
        "trusted": true,
        "colab": {
          "base_uri": "https://localhost:8080/"
        },
        "id": "0Qdov9KjWDq_",
        "outputId": "f831a3ea-4ecf-4841-845c-709362e01310"
      },
      "execution_count": 1,
      "outputs": [
        {
          "output_type": "stream",
          "name": "stdout",
          "text": [
            "4.0\n"
          ]
        }
      ]
    },
    {
      "cell_type": "markdown",
      "source": [
        "Demonstrate for uniform distribution, x values within the range will have the same probability desity.  x values outside the range have a probability density of 0. The output is similar as the following."
      ],
      "metadata": {
        "id": "TCqkfCI5WDrA"
      }
    },
    {
      "cell_type": "code",
      "source": [
        "import scipy.stats as stats\n",
        "# Calculate density at specific x values for a uniform distribution\n",
        "x_values = [-1, 2, 5, 8, 11,14]\n",
        "loc = 0\n",
        "scale = 10\n",
        "for x in x_values:\n",
        "    density = stats.uniform.pdf(x, loc=loc, scale=scale)\n",
        "    print(\"Density at x value\", x)\n",
        "    print(density)"
      ],
      "metadata": {
        "trusted": true,
        "colab": {
          "base_uri": "https://localhost:8080/"
        },
        "id": "KosCGaV6WDrA",
        "outputId": "9614d764-5011-4583-a804-99b338615f6d"
      },
      "execution_count": null,
      "outputs": [
        {
          "output_type": "stream",
          "name": "stdout",
          "text": [
            "Density at x value -1\n",
            "0.0\n",
            "Density at x value 2\n",
            "0.1\n",
            "Density at x value 5\n",
            "0.1\n",
            "Density at x value 8\n",
            "0.1\n",
            "Density at x value 11\n",
            "0.0\n",
            "Density at x value 14\n",
            "0.0\n"
          ]
        }
      ]
    },
    {
      "cell_type": "markdown",
      "source": [
        "Probability distribution functions in scipy also support median(), mean(), var() and std()."
      ],
      "metadata": {
        "id": "eDG_C5DLWDrA"
      }
    },
    {
      "cell_type": "markdown",
      "source": [
        "## The Normal Distribution"
      ],
      "metadata": {
        "id": "dzU_xIDZWDrD"
      }
    },
    {
      "cell_type": "markdown",
      "source": [
        "\n",
        "Use scipy's norm to have normal distribution (see the graph below) .  The normal distribution has default vaues of  mean of 0 and standard deviation of 1. Investigate what percentage of data generated by a default normal distribution is below -1. What percentage of data generated is above 1 and what percentage lies between -1 and 1. Print the three percentages. The output is similar as the following."
      ],
      "metadata": {
        "id": "4tlmrT-6WDrE"
      }
    },
    {
      "cell_type": "code",
      "source": [
        "import scipy.stats as stats\n",
        "mean = 0\n",
        "std_dev = 1\n",
        "# Calculating the percentage below -1\n",
        "percent_below_minus_1 = stats.norm.cdf(-1, loc=mean, scale=std_dev)\n",
        "#  percentage above 1\n",
        "percent_above_1 = 1 - stats.norm.cdf(1, loc=mean, scale=std_dev)\n",
        "#  percentage between -1 and 1\n",
        "percent_between_minus_1_and_1 = stats.norm.cdf(1, loc=mean, scale=std_dev) - stats.norm.cdf(-1, loc=mean, scale=std_dev)\n",
        "print(percent_below_minus_1)\n",
        "print(percent_above_1)\n",
        "print(percent_between_minus_1_and_1)"
      ],
      "metadata": {
        "trusted": true,
        "colab": {
          "base_uri": "https://localhost:8080/"
        },
        "id": "4OrSDB0_WDrE",
        "outputId": "81bfb8d5-fc0e-4ac4-8261-38756e644d44"
      },
      "execution_count": null,
      "outputs": [
        {
          "output_type": "stream",
          "name": "stdout",
          "text": [
            "0.15865525393145707\n",
            "0.15865525393145707\n",
            "0.6826894921370859\n"
          ]
        }
      ]
    },
    {
      "cell_type": "markdown",
      "source": [
        "Plotting is not required. The codes will be included in the solution. The image below shows the bell shape normal distribution."
      ],
      "metadata": {
        "id": "wpzcmComWDrE"
      }
    },
    {
      "cell_type": "code",
      "source": [
        "\n"
      ],
      "metadata": {
        "trusted": true,
        "colab": {
          "base_uri": "https://localhost:8080/",
          "height": 537
        },
        "id": "aAhigYlmWDrE",
        "outputId": "fde3c1f4-4d84-4182-bbaa-d4dc54c469ec"
      },
      "execution_count": null,
      "outputs": [
        {
          "output_type": "display_data",
          "data": {
            "image/png": "[encoded data removed]",
            "text/plain": [
              "<Figure size 648x648 with 1 Axes>"
            ]
          },
          "metadata": {
            "needs_background": "light"
          }
        }
      ]
    },
    {
      "cell_type": "markdown",
      "source": [
        "\n",
        "print the ppf for 2.5% cutoff and 97.5% cutoff. The output is similar as the following"
      ],
      "metadata": {
        "id": "y3_jL-q7WDrF"
      }
    },
    {
      "cell_type": "code",
      "source": [
        "import scipy.stats as stats\n",
        "mean = 0\n",
        "std_dev = 1\n",
        "# Calculating the PPF for the 2.5% cutoff\n",
        "ppf_2_5 = stats.norm.ppf(0.025, loc=mean, scale=std_dev)\n",
        "# PPF for the 97.5% cutoff\n",
        "ppf_97_5 = stats.norm.ppf(0.975, loc=mean, scale=std_dev)\n",
        "# Printing the PPF values\n",
        "print(ppf_2_5)\n",
        "print(ppf_97_5)"
      ],
      "metadata": {
        "trusted": true,
        "colab": {
          "base_uri": "https://localhost:8080/"
        },
        "id": "6z018RRmWDrF",
        "outputId": "0a1428de-87c7-4086-b451-0d5f8da3956a"
      },
      "execution_count": null,
      "outputs": [
        {
          "output_type": "stream",
          "name": "stdout",
          "text": [
            "-1.9599639845400545\n",
            "1.959963984540054\n"
          ]
        }
      ]
    },
    {
      "cell_type": "markdown",
      "source": [
        "The quantile output above confirms that roughly 5% of the data lies more than 2 standard deviations from the mean.\n"
      ],
      "metadata": {
        "id": "nV_a8hFzWDrF"
      }
    },
    {
      "cell_type": "markdown",
      "source": [
        "## The Binomial Distribution"
      ],
      "metadata": {
        "id": "jMRGOfRlWDrF"
      }
    },
    {
      "cell_type": "markdown",
      "source": [
        "We will use binomial distribution to model coin flips. The scipy name for the binomial is binom. Here we set the number of flips per trial to 10,  the number of trials to 10000, and success probability to 0.5.\n",
        "\n",
        "Create a random binomial distribution data \"fair_coin_flips\" in the code line below."
      ],
      "metadata": {
        "id": "M_3gvuROWDrF"
      }
    },
    {
      "cell_type": "code",
      "source": [
        "import pandas as pd\n",
        "import matplotlib.pyplot as plt\n",
        "# Setting the parameters for the binomial distribution\n",
        "num_flips_per_trial = 10\n",
        "num_trials = 10000\n",
        "success_prob = 0.5\n",
        "fair_coin_flips = stats.binom.rvs(n=num_flips_per_trial, p=success_prob, size=num_trials) # Generates random binomial distribution data"
      ],
      "metadata": {
        "id": "mkJxZbGIxizh"
      },
      "execution_count": 9,
      "outputs": []
    },
    {
      "cell_type": "code",
      "source": [
        "# Codes are provided here.\n",
        "# Print out the counts for 0 heads, 1 head, ...10 heads of each trial with 10000 trials.\n",
        "cross_tab = pd.crosstab(index=\"counts\", columns=fair_coin_flips)\n",
        "print(cross_tab)\n",
        "# Drawing the histogram using pandas\n",
        "df = pd.DataFrame(fair_coin_flips)\n",
        "df.hist(range=(-0.5, 10.5), bins=11)\n",
        "plt.xlabel(\"Number of Successes\")\n",
        "plt.ylabel(\"Frequency\")\n",
        "plt.title(\"Binomial Distribution (p=0.5)\")\n",
        "plt.show()"
      ],
      "metadata": {
        "trusted": true,
        "colab": {
          "base_uri": "https://localhost:8080/",
          "height": 523
        },
        "id": "n9AXH35TWDrF",
        "outputId": "f4f141f0-7cc9-4d91-af9f-a41ee6de3832"
      },
      "execution_count": 10,
      "outputs": [
        {
          "output_type": "stream",
          "name": "stdout",
          "text": [
            "col_0   0    1    2     3     4     5     6     7    8   9   10\n",
            "row_0                                                          \n",
            "counts  10  110  439  1161  2024  2504  2025  1215  418  87   7\n"
          ]
        },
        {
          "output_type": "display_data",
          "data": {
            "text/plain": [
              "<Figure size 640x480 with 1 Axes>"
            ],
            "image/png": "[encoded data removed]"
          },
          "metadata": {}
        }
      ]
    },
    {
      "cell_type": "markdown",
      "source": [
        "The histogram above shows us that a binomial distribution with a 50% probability of success is roughly symmetric, with the most likely outcomes lying at the center.\n",
        "Change the success rate to 0.8, implement the codes similar as above to show the distribution won't be symmetric:"
      ],
      "metadata": {
        "id": "6NOTE2BIWDrG"
      }
    },
    {
      "cell_type": "code",
      "source": [
        "import pandas as pd\n",
        "import matplotlib.pyplot as plt\n",
        "from scipy import stats\n",
        "# Setting the parameters for the binomial distribution\n",
        "num_flips_per_trial = 10\n",
        "num_trials = 10000\n",
        "success_prob = 0.8\n",
        "fair_coin_flips = stats.binom.rvs(n=num_flips_per_trial, p=success_prob, size=num_trials)\n",
        "cross_tab = pd.crosstab(index=\"counts\", columns=fair_coin_flips)\n",
        "print(cross_tab)\n",
        "df = pd.DataFrame(fair_coin_flips)\n",
        "df.hist(range=(-0.5, 10.5), bins=11)\n",
        "plt.xlabel(\"Number of Successes\")\n",
        "plt.ylabel(\"Frequency\")\n",
        "plt.title(\"Binomial Distribution (p=0.8)\")\n",
        "plt.show()"
      ],
      "metadata": {
        "trusted": true,
        "colab": {
          "base_uri": "https://localhost:8080/",
          "height": 523
        },
        "id": "ayZSW5zmWDrG",
        "outputId": "7e4fa617-9f57-4ae4-d007-d5ffb7fda5c0"
      },
      "execution_count": 12,
      "outputs": [
        {
          "output_type": "stream",
          "name": "stdout",
          "text": [
            "col_0   3   4    5    6     7     8     9     10\n",
            "row_0                                           \n",
            "counts   7  53  261  843  1961  3025  2748  1102\n"
          ]
        },
        {
          "output_type": "display_data",
          "data": {
            "text/plain": [
              "<Figure size 640x480 with 1 Axes>"
            ],
            "image/png": "[encoded data removed]"
          },
          "metadata": {}
        }
      ]
    },
    {
      "cell_type": "markdown",
      "source": [
        "Continue from above binomial distribution(success rate=0.8), give the codes to get the probability of achieving 5 heads or less with 10 flips."
      ],
      "metadata": {
        "id": "ybMhEMhOWDrG"
      }
    },
    {
      "cell_type": "code",
      "source": [
        "import scipy.stats as stats\n",
        "num_flips_per_trial = 10\n",
        "success_prob = 0.8\n",
        "# Calculating the probability of achieving 5 heads or less\n",
        "probability = stats.binom.cdf(5, n=num_flips_per_trial, p=success_prob)\n",
        "print(\"Probability of achieving 5 heads or less with 10 flips:\", probability)"
      ],
      "metadata": {
        "trusted": true,
        "colab": {
          "base_uri": "https://localhost:8080/"
        },
        "id": "Fhm0ScKWWDrG",
        "outputId": "6a16e533-2078-49dc-c2c6-055f175df045"
      },
      "execution_count": 13,
      "outputs": [
        {
          "output_type": "stream",
          "name": "stdout",
          "text": [
            "Probability of achieving 5 heads or less with 10 flips: 0.03279349759999997\n"
          ]
        }
      ]
    },
    {
      "cell_type": "markdown",
      "source": [
        "Continue from above binomial distribution(success rate=0.8), give the codes to get the probability of achieving 9 heads or more with 10 flips."
      ],
      "metadata": {
        "id": "EdSbcxw62Y9x"
      }
    },
    {
      "cell_type": "code",
      "source": [
        "import scipy.stats as stats\n",
        "num_flips_per_trial = 10\n",
        "success_prob = 0.8\n",
        "# Calculating the probability of achieving 9 heads or more\n",
        "probability = 1 - stats.binom.cdf(8, n=num_flips_per_trial, p=success_prob)\n",
        "print(\"Probability of achieving 9 heads or more with 10 flips:\", probability)"
      ],
      "metadata": {
        "trusted": true,
        "colab": {
          "base_uri": "https://localhost:8080/"
        },
        "id": "HBxh9yKQWDrG",
        "outputId": "ef210df6-6774-4f56-8804-f3987965b327"
      },
      "execution_count": 14,
      "outputs": [
        {
          "output_type": "stream",
          "name": "stdout",
          "text": [
            "Probability of achieving 9 heads or more with 10 flips: 0.37580963840000015\n"
          ]
        }
      ]
    },
    {
      "cell_type": "markdown",
      "source": [
        "For continuous probability density functions, you use pdf() to check the probability density at a given x value. For discrete distributions like the binomial, use stats.distribution.pmf() (probability mass function) to check the mass (proportion of observations) at given number of successes k.\n",
        "Write codes to give the probability density at 5 heads with success rate of 0.5 of 10 flips."
      ],
      "metadata": {
        "id": "muBEhjHyWDrH"
      }
    },
    {
      "cell_type": "code",
      "source": [
        "import scipy.stats as stats\n",
        "num_flips_per_trial = 10\n",
        "success_prob = 0.5\n",
        "# Calculating the probability density at 5 heads\n",
        "probability_density = stats.binom.pmf(5, n=num_flips_per_trial, p=success_prob)\n",
        "print(\"Probability density at 5 heads with 10 flips:\", probability_density)"
      ],
      "metadata": {
        "trusted": true,
        "colab": {
          "base_uri": "https://localhost:8080/"
        },
        "id": "pn7DjhdIWDrH",
        "outputId": "93a5069f-43c3-4a98-94f8-2c937394b24b"
      },
      "execution_count": null,
      "outputs": [
        {
          "output_type": "stream",
          "name": "stdout",
          "text": [
            "Probability density at 5 heads with 10 flips: 0.24609375000000003\n"
          ]
        }
      ]
    },
    {
      "cell_type": "markdown",
      "source": [
        "What about the probability density at 8 heads with success rate of 0.8 of 10 flips?"
      ],
      "metadata": {
        "id": "yygZPFEa8TEG"
      }
    },
    {
      "cell_type": "code",
      "source": [
        "import scipy.stats as stats\n",
        "num_flips_per_trial = 10\n",
        "success_prob = 0.8\n",
        "# Calculating the probability density at 8 heads\n",
        "probability_density = stats.binom.pmf(8, n=num_flips_per_trial, p=success_prob)\n",
        "print(\"Probability density at 8 heads with 10 flips:\", probability_density)"
      ],
      "metadata": {
        "trusted": true,
        "colab": {
          "base_uri": "https://localhost:8080/"
        },
        "id": "XNCfMBj6WDrH",
        "outputId": "d1a769d2-969c-40c4-ba15-a553884fef4a"
      },
      "execution_count": 2,
      "outputs": [
        {
          "output_type": "stream",
          "name": "stdout",
          "text": [
            "Probability density at 8 heads with 10 flips: 0.30198988799999993\n"
          ]
        }
      ]
    },
    {
      "cell_type": "markdown",
      "source": [
        "## Wrap Up"
      ],
      "metadata": {
        "id": "LKqkiSsnWDrJ"
      }
    },
    {
      "cell_type": "markdown",
      "source": [
        "Extra information of Exponential Distributions and Poisson Distributions will be given in the solution.\n",
        "\n",
        "\n",
        "Python's scipy library contains functions that make it easy to work with a wide range of probability distributions, including [many that we did not discuss](https://docs.scipy.org/doc/scipy/reference/stats.html) in this lesson. Probability distribution functions are useful for generating random data, modeling random events and aiding with statistical tests and analysis.\n"
      ],
      "metadata": {
        "id": "HEVLHyABWDrK"
      }
    }
  ]
}