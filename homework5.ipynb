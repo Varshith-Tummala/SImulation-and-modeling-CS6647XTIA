{
  "nbformat": 4,
  "nbformat_minor": 0,
  "metadata": {
    "colab": {
      "provenance": [],
      "authorship_tag": "ABX9TyM69cxKG6sOeSJclqZExIZt",
      "include_colab_link": true
    },
    "kernelspec": {
      "name": "python3",
      "display_name": "Python 3"
    },
    "language_info": {
      "name": "python"
    }
  },
  "cells": [
    {
      "cell_type": "markdown",
      "metadata": {
        "id": "view-in-github",
        "colab_type": "text"
      },
      "source": [
        "<a href=\"https://colab.research.google.com/github/Varshith-Tummala/Simulation-and-modeling-CS6647XTIA/blob/main/homework5.ipynb\" target=\"_parent\"><img src=\"https://colab.research.google.com/assets/colab-badge.svg\" alt=\"Open In Colab\"/></a>"
      ]
    },
    {
      "cell_type": "markdown",
      "source": [
        "The states"
      ],
      "metadata": {
        "id": "PrHDzQe-XZ-D"
      }
    },
    {
      "cell_type": "code",
      "source": [
        "Activity_state = {\n",
        "    0: 'rest',\n",
        "    1: 'sweeties',\n",
        "    2: 'exercises'\n",
        "}\n",
        "state"
      ],
      "metadata": {
        "colab": {
          "base_uri": "https://localhost:8080/"
        },
        "id": "sAYKCblPXcyj",
        "outputId": "3ff65f70-305e-4780-9494-364ad2ca2ea8"
      },
      "execution_count": 42,
      "outputs": [
        {
          "output_type": "execute_result",
          "data": {
            "text/plain": [
              "{0: 'rest', 1: 'sweeties', 2: 'exercises'}"
            ]
          },
          "metadata": {},
          "execution_count": 42
        }
      ]
    },
    {
      "cell_type": "markdown",
      "source": [
        "The transition matrix ( for the given state diagram) is as follows:"
      ],
      "metadata": {
        "id": "akQBElvuQmst"
      }
    },
    {
      "cell_type": "code",
      "source": [
        "transition_matrix = np.array([[0.2, 0.2, 0.6],\n",
        "                             [0.2, 0.1, 0.7],\n",
        "                             [0.1, 0.3, 0.6]])\n",
        "print(transition_matrix)"
      ],
      "metadata": {
        "colab": {
          "base_uri": "https://localhost:8080/"
        },
        "id": "OcFxXCH5QsZ3",
        "outputId": "f8bafd47-a7f7-4af9-f445-ef8fb6bc5ecc"
      },
      "execution_count": 43,
      "outputs": [
        {
          "output_type": "stream",
          "name": "stdout",
          "text": [
            "[[0.2 0.2 0.6]\n",
            " [0.2 0.1 0.7]\n",
            " [0.1 0.3 0.6]]\n"
          ]
        }
      ]
    },
    {
      "cell_type": "markdown",
      "source": [
        "The random walk can be:"
      ],
      "metadata": {
        "id": "cdI6DmygQz7D"
      }
    },
    {
      "cell_type": "code",
      "source": [
        "# number of steps and starting state\n",
        "n = 15\n",
        "starting_state = 0\n",
        "previous_state = starting_state\n",
        "\n",
        "# Performing the random walk\n",
        "for i in range(n):\n",
        "    current_state = np.random.choice([0, 1, 2], p=transition_matrix[previous_state])\n",
        "    print(Activity_state[current_state], \"---->\", end=\"\")\n",
        "    # Update the previous state\n",
        "    previous_state = current_state\n"
      ],
      "metadata": {
        "colab": {
          "base_uri": "https://localhost:8080/"
        },
        "id": "nqrRgm5-Rqwa",
        "outputId": "6369e27e-08d6-4222-b4f9-ff85c7264cb2"
      },
      "execution_count": 44,
      "outputs": [
        {
          "output_type": "stream",
          "name": "stdout",
          "text": [
            "exercises ---->exercises ---->sweeties ---->exercises ---->exercises ---->sweeties ---->exercises ---->exercises ---->exercises ---->exercises ---->exercises ---->sweeties ---->sweeties ---->exercises ---->exercises ---->"
          ]
        }
      ]
    },
    {
      "cell_type": "markdown",
      "source": [
        "1. The starting state is Rest. Calculate the probability of possible activity on the 15th day.\n",
        "2. What about the state and probability after 10000 days?\n"
      ],
      "metadata": {
        "id": "aCdmrRukTG0Z"
      }
    },
    {
      "cell_type": "code",
      "source": [
        "import numpy as np\n",
        "\n",
        "# Transition matrix\n",
        "transition_matrix = np.array([[0.2, 0.2, 0.6],\n",
        "                             [0.2, 0.1, 0.7],\n",
        "                             [0.1, 0.3, 0.6]])\n",
        "# Starting state vector\n",
        "start_state = np.array([1, 0, 0])  # Rest is the starting state\n",
        "prob_15_days = np.linalg.matrix_power(transition_matrix.T, 15) @ start_state # Calculating probability after 15 days\n",
        "prob_10000_days = np.linalg.matrix_power(transition_matrix.T, 10000) @ start_state # Calculating probability after 10,000 days\n",
        "print(\"Probability of activities on the 15th day:\") # Printing the respective probabilities\n",
        "print(\"Rest:\", prob_15_days[0])\n",
        "print(\"Sweeties:\", prob_15_days[1])\n",
        "print(\"Exercises:\", prob_15_days[2])\n",
        "\n",
        "print(\"\\nProbability of activities after 10,000 days:\")\n",
        "print(\"Rest:\", prob_10000_days[0])\n",
        "print(\"Sweeties:\", prob_10000_days[1])\n",
        "print(\"Exercises:\", prob_10000_days[2])\n"
      ],
      "metadata": {
        "colab": {
          "base_uri": "https://localhost:8080/"
        },
        "id": "lSp7J4RdTRBU",
        "outputId": "7c49bd5d-777a-4d9e-9116-1c839731ca5f"
      },
      "execution_count": 45,
      "outputs": [
        {
          "output_type": "stream",
          "name": "stdout",
          "text": [
            "Probability of activities on the 15th day:\n",
            "Rest: 0.13761467889913792\n",
            "Sweeties: 0.23853211009159786\n",
            "Exercises: 0.6238532110092637\n",
            "\n",
            "Probability of activities after 10,000 days:\n",
            "Rest: 0.1376146788990357\n",
            "Sweeties: 0.23853211009166178\n",
            "Exercises: 0.6238532110089616\n"
          ]
        }
      ]
    },
    {
      "cell_type": "markdown",
      "source": [
        "3. What do you observe from the above two?"
      ],
      "metadata": {
        "id": "V0sa3zhhWci7"
      }
    },
    {
      "cell_type": "markdown",
      "source": [
        "**ANSWER:** when observed, we can see that as the number of days goes up, the odds tend to stay the same. After a long time, in this case 10,000 days, the chances of being in each state get close to certain values. In this case, the chances after 10,000 days are very close to the chances after 15 days. This shows that the distribution has reached a stable state. As the number of steps goes up, the values of probability states get closer together. If the number of trials is low, the model tends to give too high of odds for rest and sweets. As the number of trials goes up, we can see that they settle on 13.76% for rest, 23.85% for sweets, and 62.39% for exercises."
      ],
      "metadata": {
        "id": "7j1bmZctWe0-"
      }
    }
  ]
}