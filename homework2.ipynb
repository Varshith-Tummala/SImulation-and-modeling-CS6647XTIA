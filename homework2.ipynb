{
  "nbformat": 4,
  "nbformat_minor": 0,
  "metadata": {
    "colab": {
      "provenance": [],
      "include_colab_link": true
    },
    "kernelspec": {
      "name": "python3",
      "display_name": "Python 3.9.5 64-bit"
    },
    "language_info": {
      "name": "python",
      "version": "3.9.5",
      "mimetype": "text/x-python",
      "codemirror_mode": {
        "name": "ipython",
        "version": 3
      },
      "pygments_lexer": "ipython3",
      "nbconvert_exporter": "python",
      "file_extension": ".py"
    },
    "interpreter": {
      "hash": "c98e05168fa63a48dbdd2a4274fef77cd63f6368d59e4488c10e2ff7243bb6c6"
    }
  },
  "cells": [
    {
      "cell_type": "markdown",
      "metadata": {
        "id": "view-in-github",
        "colab_type": "text"
      },
      "source": [
        "<a href=\"https://colab.research.google.com/github/Varshith-Tummala/Simulation-and-modeling-CS6647XTIA/blob/main/homework2.ipynb\" target=\"_parent\"><img src=\"https://colab.research.google.com/assets/colab-badge.svg\" alt=\"Open In Colab\"/></a>"
      ]
    },
    {
      "cell_type": "markdown",
      "source": [
        "\n",
        "1. Use for loop to generate 3 random integers between 100 and 999 which is divisible by 5. \n",
        "\n"
      ],
      "metadata": {
        "id": "nF0Ps19ADEAg"
      }
    },
    {
      "cell_type": "code",
      "execution_count": 8,
      "source": [
        "import random\n",
        "\n",
        "div_by_5 = []\n",
        "\n",
        "for i in range(3):\n",
        "    while True:\n",
        "        number = random.randint(100, 999)  # Generates a random number between 100 and 999\n",
        "        if number % 5 == 0:  # Checks if the number if it is divisible by 5\n",
        "            div_by_5.append(number)  # Adding the number to the list\n",
        "            break  # Exit the loop since we found a number that satisfies the condition\n",
        "\n",
        "print(div_by_5)\n"
      ],
      "outputs": [
        {
          "output_type": "stream",
          "name": "stdout",
          "text": [
            "[965, 730, 970]\n"
          ]
        }
      ],
      "metadata": {
        "colab": {
          "base_uri": "https://localhost:8080/"
        },
        "id": "TioIKiMBDPGR",
        "outputId": "c920e179-4328-4c65-bd91-c694549cb86d"
      }
    },
    {
      "cell_type": "markdown",
      "source": [
        "2.The Logistic distribution is used in Extreme Value problems where it can act as a mixture of Gumbel distributions. Draw samples from a logistic distribution and plot it. loc=10, scale=1 and size =1000. "
      ],
      "metadata": {
        "id": "hyXLw2juDQBR"
      }
    },
    {
      "cell_type": "code",
      "execution_count": 9,
      "source": [
        "import numpy as np\n",
        "import matplotlib.pyplot as plt\n",
        "\n",
        "# Set the parameters for the logistic distribution\n",
        "loc = 10\n",
        "scale = 1\n",
        "size = 1000\n",
        "\n",
        "# Generate samples from the logistic distribution\n",
        "samples = np.random.logistic(loc=loc, scale=scale, size=size)\n",
        "\n",
        "# Plot the histogram of the samples\n",
        "plt.hist(samples, bins=30, density=True, edgecolor='black')\n",
        "plt.xlabel('Value')\n",
        "plt.ylabel('Frequency')\n",
        "plt.title('Samples from Logistic Distribution')\n",
        "plt.show() # shows the plot.\n"
      ],
      "outputs": [
        {
          "output_type": "display_data",
          "data": {
            "text/plain": [
              "<Figure size 640x480 with 1 Axes>"
            ],
            "image/png": "[encoded data removed]"
          },
          "metadata": {}
        }
      ],
      "metadata": {
        "colab": {
          "base_uri": "https://localhost:8080/",
          "height": 471
        },
        "id": "t2yhyP6RDXMI",
        "outputId": "c5c09e1d-1118-42d4-8666-d7efca18a2ad"
      }
    },
    {
      "cell_type": "markdown",
      "source": [],
      "metadata": {
        "id": "6itPhI4SFJUb"
      }
    },
    {
      "cell_type": "markdown",
      "source": [
        "3.\tGenerate 6 digit random secure OTP."
      ],
      "metadata": {
        "id": "0jAtQnvcFn1g"
      }
    },
    {
      "cell_type": "code",
      "execution_count": 35,
      "source": [
        "import secrets # we use secrets module here\n",
        "\n",
        "otp = secrets.randbelow(900000) + 100000 # we can only set 900000 as the upper bound and can obtain 6-didit long OTP. not all cases it returns 6-digit, so we are adding 100000\n",
        "\n",
        "print(otp)\n"
      ],
      "outputs": [
        {
          "output_type": "stream",
          "name": "stdout",
          "text": [
            "467536\n"
          ]
        }
      ],
      "metadata": {
        "colab": {
          "base_uri": "https://localhost:8080/"
        },
        "id": "8pnAxvQyGLN7",
        "outputId": "a3e08237-8c65-41d3-c6dc-5decd22fd80a"
      }
    },
    {
      "cell_type": "markdown",
      "source": [
        "4.\tPick a random character from a given string such as \"Simulation and modeling\""
      ],
      "metadata": {
        "id": "sRajmF4JGc9C"
      }
    },
    {
      "cell_type": "code",
      "execution_count": 38,
      "source": [
        "import random # we are using random module\n",
        "\n",
        "string = \"Simulation and modeling\"\n",
        "\n",
        "random_character = random.choice(string)\n",
        "\n",
        "print(\" random character is\" ,random_character)\n"
      ],
      "outputs": [
        {
          "output_type": "stream",
          "name": "stdout",
          "text": [
            " random character is n\n"
          ]
        }
      ],
      "metadata": {
        "colab": {
          "base_uri": "https://localhost:8080/"
        },
        "id": "7dquFCrHGeGx",
        "outputId": "cd5161db-ab88-49dd-86cd-2a00c0bc4ba5"
      }
    },
    {
      "cell_type": "markdown",
      "source": [
        "5. Import string and random module. Generate a string with 5 characters with UPPER case and lower case letters only. No numbers and a special symbol."
      ],
      "metadata": {
        "id": "LWo72SxJGxOd"
      }
    },
    {
      "cell_type": "code",
      "execution_count": 43,
      "source": [
        "import string\n",
        "import random\n",
        "\n",
        "characters = string.ascii_letters  # Contains all uppercase and lowercase letters\n",
        "\n",
        "random_string = ''.join(random.choice(characters) for i in range(5)) # using str.join\n",
        "\n",
        "print(\"random string generated is\",random_string)\n"
      ],
      "outputs": [
        {
          "output_type": "stream",
          "name": "stdout",
          "text": [
            "random string generated is ZaEaW\n"
          ]
        }
      ],
      "metadata": {
        "colab": {
          "base_uri": "https://localhost:8080/"
        },
        "id": "rf1xMCM8HPhw",
        "outputId": "b82e2f65-9bff-4fdc-8aac-aaa675482821"
      }
    },
    {
      "cell_type": "markdown",
      "source": [
        "6. Import string and random module. Generate a Password with length 10 which contains 2 upper case letters, 1 digit, and 1 special symbol. "
      ],
      "metadata": {
        "id": "7yXtRN6WHYiu"
      }
    },
    {
      "cell_type": "code",
      "execution_count": 46,
      "source": [
        "import string\n",
        "import random\n",
        "\n",
        "# Define the character sets\n",
        "uppercase_letters = string.ascii_uppercase\n",
        "digits = string.digits\n",
        "special_symbols = string.punctuation\n",
        "\n",
        "# Combine all character sets\n",
        "all_characters = uppercase_letters + digits + special_symbols\n",
        "\n",
        "# Generate the password\n",
        "password = random.sample(uppercase_letters, 2) + random.sample(digits, 1) + random.sample(special_symbols, 1) \n",
        "password += random.sample(all_characters, 6)\n",
        "random.shuffle(password)\n",
        "password = ''.join(password)\n",
        "\n",
        "print(\"Password is\",password)\n"
      ],
      "outputs": [
        {
          "output_type": "stream",
          "name": "stdout",
          "text": [
            "password is V0>6GF;<R5\n"
          ]
        }
      ],
      "metadata": {
        "colab": {
          "base_uri": "https://localhost:8080/"
        },
        "id": "-3L50bqjHsKO",
        "outputId": "067f0e15-97a3-4337-bb00-7776cafcd1c2"
      }
    },
    {
      "cell_type": "markdown",
      "source": [
        "7. First generate evenly spaced values within 0 to 9. Give it new shape 3x3. Then randomly permute it."
      ],
      "metadata": {
        "id": "b5m0Kv-aIONE"
      }
    },
    {
      "cell_type": "code",
      "execution_count": 50,
      "source": [
        "import numpy as np\n",
        "\n",
        "\n",
        "values = np.linspace(0, 9, 9, dtype=int) # we use np.linspace for evenly spaced values from 0 to 9\n",
        "\n",
        "\n",
        "matrix = values.reshape((3, 3)) # Reshaping the values into a 3x3 matrix\n",
        "\n",
        "permuted_matrix = np.random.permutation(matrix)  # Randomly permute the matrix\n",
        "\n",
        "print(\"the permuted matrix is \")\n",
        "print (permuted_matrix)\n"
      ],
      "outputs": [
        {
          "output_type": "stream",
          "name": "stdout",
          "text": [
            "the permuted matrix is \n",
            "[[3 4 5]\n",
            " [0 1 2]\n",
            " [6 7 9]]\n"
          ]
        }
      ],
      "metadata": {
        "colab": {
          "base_uri": "https://localhost:8080/"
        },
        "id": "lA-_-8aNIYWZ",
        "outputId": "ff95b271-b292-430f-edd7-33ac36990d30"
      }
    },
    {
      "cell_type": "markdown",
      "source": [
        "8. Generate random secure token of 64 bytes and random URL"
      ],
      "metadata": {
        "id": "A_qKoz0cJs56"
      }
    },
    {
      "cell_type": "code",
      "execution_count": 57,
      "source": [
        "import secrets\n",
        "import string\n",
        "\n",
        "# Generating a random secure token of 64 bytes\n",
        "secure_token = secrets.token_hex(64) # We use secrets.token_hex(64) to make a 64-byte secure token that is chosen at random. \n",
        "\n",
        "\n",
        "# Generating a random URL\n",
        "characters = string.ascii_letters + string.digits\n",
        "url = ''.join(secrets.choice(characters) for _ in range(128)) # using range to 128 so that we get 64 byte URL as 1 byte = 2 bits or characters\n",
        "\n",
        "print(\"Random hexadecimal Secure Token:\", secure_token)\n",
        "print(\"Random  secure URL:\", url)\n"
      ],
      "outputs": [
        {
          "output_type": "stream",
          "name": "stdout",
          "text": [
            "Random hexadecimal Secure Token: 6b755be46b9adcddf62128e333e352d05f93325361ea33fffe46aeaed3bd264cdb22e2bc739ea19b0622536a14867a7101d8dffa7c9be3e5ab060f36e99e8a42\n",
            "Random  secure URL: U6vw3BztT2RmFJuvy6SeGgIP5OkaubOjQBbmmHHwumEjvzXXoN1O0gmx87Qm5spyL81JulhjvRMhlFWxpBVePTfS5xD5WtYkDDLEDGslfAbqcDFPGZw7coCEN8aEb1Rq\n"
          ]
        }
      ],
      "metadata": {
        "colab": {
          "base_uri": "https://localhost:8080/"
        },
        "id": "i5Yl9imaKULT",
        "outputId": "3943f09a-13c8-4e5b-f112-d7f712063419"
      }
    },
    {
      "cell_type": "markdown",
      "source": [
        "9. Pick a random number from 1 to 6. Do it in such a way that every time you must get the same random output number(no hard coding numbers). do this 5 times."
      ],
      "metadata": {
        "id": "BbqxqvkAKoco"
      }
    },
    {
      "cell_type": "code",
      "execution_count": 74,
      "source": [
        "import random\n",
        "\n",
        "dice = [1, 2, 3, 4, 5, 6]\n",
        "print(\"Randomly selecting same number\")\n",
        "for i in range(5):\n",
        "    random.seed(25)\n",
        "    print(random.choice(dice))"
      ],
      "outputs": [
        {
          "output_type": "stream",
          "name": "stdout",
          "text": [
            "Randomly selecting same number\n",
            "4\n",
            "4\n",
            "4\n",
            "4\n",
            "4\n"
          ]
        }
      ],
      "metadata": {
        "colab": {
          "base_uri": "https://localhost:8080/"
        },
        "id": "GLkxztDWK0ZE",
        "outputId": "1b655ec4-a3e4-44a1-da33-2ce02778d419"
      }
    },
    {
      "cell_type": "markdown",
      "source": [
        "10. Write an interactive Python program to play a “guess the  number” game. The computer should think of a random integer between  1 and 20 and the user (player) has to try to guess the number within six  attempts. The program should let the player know if the guess is too high or  too low. \n"
      ],
      "metadata": {
        "id": "nKU3_whrK193"
      }
    },
    {
      "cell_type": "code",
      "execution_count": 67,
      "source": [
        "import random\n",
        "\n",
        "# Generating a random number between 1 and 20\n",
        "random_number = random.randint(1, 20)\n",
        "\n",
        "print(\"Welcome to the Number guessing game!\")\n",
        "print(\"I'm thinking of a number between 1 and 20.\")\n",
        "print(\"You have 6 attempts to guess the number.\")\n",
        "\n",
        "# Loop for 6 attempts\n",
        "for attempt in range(1, 7):\n",
        "    guess = int(input(f\"Attempt {attempt}: Enter your guess: \"))\n",
        "    \n",
        "    if guess < random_number:\n",
        "        print(\"Too low!\")\n",
        "    elif guess > random_number:\n",
        "        print(\"Too high!\")\n",
        "    else:\n",
        "        print(f\"Congratulations! You guessed the number in {attempt} attempts.\")\n",
        "        break\n",
        "\n",
        "# If the player couldn't guess the number in 6 attempts\n",
        "if guess != random_number:\n",
        "    print(f\"Game over! The number I was thinking was {random_number}.\")\n"
      ],
      "outputs": [
        {
          "output_type": "stream",
          "name": "stdout",
          "text": [
            "Welcome to the Number guessing game!\n",
            "I'm thinking of a number between 1 and 20.\n",
            "You have 6 attempts to guess the number.\n",
            "Attempt 1: Enter your guess: 5\n",
            "Too low!\n",
            "Attempt 2: Enter your guess: 10\n",
            "Too high!\n",
            "Attempt 3: Enter your guess: 6\n",
            "Too low!\n",
            "Attempt 4: Enter your guess: 3\n",
            "Too low!\n",
            "Attempt 5: Enter your guess: 7\n",
            "Too low!\n",
            "Attempt 6: Enter your guess: 9\n",
            "Too high!\n",
            "Game over! The number I was thinking of was 8.\n"
          ]
        }
      ],
      "metadata": {
        "colab": {
          "base_uri": "https://localhost:8080/"
        },
        "id": "ZcGQDFpSNX6r",
        "outputId": "7e546a2c-8994-460c-89ff-dbb1c259c863"
      }
    }
  ]
}
