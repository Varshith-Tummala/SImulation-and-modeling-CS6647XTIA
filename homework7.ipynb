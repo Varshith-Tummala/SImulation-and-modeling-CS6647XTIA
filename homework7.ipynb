{
  "nbformat": 4,
  "nbformat_minor": 0,
  "metadata": {
    "colab": {
      "provenance": [],
      "authorship_tag": "ABX9TyMMcdCfX99ZEpzG2lJSx9Ol",
      "include_colab_link": true
    },
    "kernelspec": {
      "name": "python3",
      "display_name": "Python 3"
    },
    "language_info": {
      "name": "python"
    }
  },
  "cells": [
    {
      "cell_type": "markdown",
      "metadata": {
        "id": "view-in-github",
        "colab_type": "text"
      },
      "source": [
        "<a href=\"https://colab.research.google.com/github/Varshith-Tummala/Simulation-and-modeling-CS6647XTIA/blob/main/homework7.ipynb\" target=\"_parent\"><img src=\"https://colab.research.google.com/assets/colab-badge.svg\" alt=\"Open In Colab\"/></a>"
      ]
    },
    {
      "cell_type": "markdown",
      "source": [
        "Use SciPy Optimization to solve:\n",
        "\n",
        "Someone wants to build a cardboard box and maximize the volume by adjusting the length (L), width (W), and height (H) of the box and the same time the surface area of the box (area of 6 sides) stays no more than 10.\n",
        "\n",
        "Print optimal L, W, H, Volume and surface area."
      ],
      "metadata": {
        "id": "P0WyztZN1tFY"
      }
    },
    {
      "cell_type": "code",
      "execution_count": null,
      "metadata": {
        "colab": {
          "base_uri": "https://localhost:8080/"
        },
        "id": "ky_ibr_gNfO3",
        "outputId": "d73a174e-e145-48d4-8438-bb097da82614"
      },
      "outputs": [
        {
          "output_type": "stream",
          "name": "stdout",
          "text": [
            "Optimization terminated successfully    (Exit mode 0)\n",
            "            Current function value: -2.151657414467269\n",
            "            Iterations: 4\n",
            "            Function evaluations: 17\n",
            "            Gradient evaluations: 4\n"
          ]
        }
      ],
      "source": [
        "import numpy as np\n",
        "from scipy.optimize import minimize\n",
        "\n",
        "# Defining the function to calculate the volume of a box\n",
        "def box_volume(x):\n",
        "    length = x[0]\n",
        "    width = x[1]\n",
        "    height = x[2]\n",
        "    volume = length * width * height\n",
        "    return volume\n",
        "\n",
        "# Defining the function to calculate the surface area of a box\n",
        "def surface_area(x):\n",
        "    length = x[0]\n",
        "    width = x[1]\n",
        "    height = x[2]\n",
        "    box_surface_area = 2 * (length * width + length * height + width * height)\n",
        "    return box_surface_area\n",
        "\n",
        "# Defining the objective function to maximize the box volume\n",
        "def objective(x):\n",
        "    return -box_volume(x)\n",
        "\n",
        "# Defining the constraint function to limit the box surface area to be less than or equal to 10\n",
        "def constraint(x):\n",
        "    return 10 - surface_area(x)\n",
        "\n",
        "# Setting up the constraint as an inequality\n",
        "constr = ({'type': 'ineq', 'fun': constraint})\n",
        "\n",
        "# Setting the initial guesses for the box dimensions\n",
        "length_guess = 1\n",
        "width_guess = 1\n",
        "height_guess = 1\n",
        "guesses = np.array([length_guess, width_guess, height_guess])\n",
        "\n",
        "# Use the minimize function to find the optimal box dimensions that maximize volume while satisfying the constraint\n",
        "answer = minimize(objective, guesses, method='SLSQP', constraints=constr, options={'disp': True})\n"
      ]
    },
    {
      "cell_type": "code",
      "source": [
        "# Extracting the optimal box dimensions, volume, and surface area from the answer\n",
        "optimum_size = answer.x\n",
        "optimum_volume = -answer.fun\n",
        "optimum_surface_area = surface_area(optimum_size)\n",
        "\n",
        "# Printing the results\n",
        "print('Optimal Box Dimensions:')\n",
        "print('Length: ', optimum_size[0])\n",
        "print('Width: ', optimum_size[1])\n",
        "print('Height: ', optimum_size[2])\n",
        "print('Volume: ', optimum_volume)\n",
        "print('Surface Area: ', optimum_surface_area)\n"
      ],
      "metadata": {
        "colab": {
          "base_uri": "https://localhost:8080/"
        },
        "id": "JuPuER_VaMEZ",
        "outputId": "3c405a9e-5453-4b26-bd8d-dce83033fa33"
      },
      "execution_count": null,
      "outputs": [
        {
          "output_type": "stream",
          "name": "stdout",
          "text": [
            "Optimal Box Dimensions:\n",
            "Length:  1.2909944727867015\n",
            "Width:  1.290994455352175\n",
            "Height:  1.2909944180130968\n",
            "Volume:  2.151657414467269\n",
            "Surface Area:  9.999999999713689\n"
          ]
        }
      ]
    }
  ]
}